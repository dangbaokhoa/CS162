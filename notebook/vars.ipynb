{
 "cells": [
  {
   "cell_type": "code",
   "execution_count": 13,
   "metadata": {},
   "outputs": [],
   "source": [
    "from openai import OpenAI\n",
    "import json\n",
    "\n",
    "GPT_MODEL = \"gpt-3.5-turbo-0613\"\n",
    "client = OpenAI()"
   ]
  },
  {
   "cell_type": "code",
   "execution_count": 200,
   "metadata": {},
   "outputs": [
    {
     "name": "stdout",
     "output_type": "stream",
     "text": [
      "RouteId, RouteVarId, RouteVarName, RouteVarShortName, RouteNo, StartStop, EndStop, Distance, Outbound, RunningTime\n"
     ]
    }
   ],
   "source": [
    "routeKeys = [\"RouteId\", \"RouteVarId\", \"RouteVarName\", \"RouteVarShortName\", \"RouteNo\", \"StartStop\", \"EndStop\", \"Distance\", \"Outbound\", \"RunningTime\"]\n",
    "keywords = (', ').join(routeKeys)\n",
    "print(keywords)\n",
    "userPrompt = \"Find the route that have id is 3\"\n",
    "prompt = f\"\"\"Extract the following information if it containt the given keywords, else don't included it and return it as a JSON object: {keywords}.\n",
    "This is the body of text to extract the information from:{userPrompt}\n",
    "\"\"\"\n",
    "messages = [{\"role\": \"user\", \"content\": prompt}]\n"
   ]
  },
  {
   "cell_type": "code",
   "execution_count": 201,
   "metadata": {},
   "outputs": [
    {
     "name": "stdout",
     "output_type": "stream",
     "text": [
      "ChatCompletionMessage(content='{\\n  \"RouteId\": 3\\n}', role='assistant', function_call=None, tool_calls=None)\n"
     ]
    }
   ],
   "source": [
    "response = client.chat.completions.create(\n",
    "\tmodel=\"gpt-3.5-turbo-0125\",\n",
    "\tmessages=messages\n",
    ")\n",
    "response_message = response.choices[0].message\n",
    "print(response_message)"
   ]
  },
  {
   "cell_type": "code",
   "execution_count": 196,
   "metadata": {},
   "outputs": [
    {
     "name": "stdout",
     "output_type": "stream",
     "text": [
      "RouteId 3\n"
     ]
    }
   ],
   "source": [
    "extractInfo = json.loads(response_message.content)\n",
    "for i, j in extractInfo.items():\n",
    "    print(i, j)"
   ]
  }
 ],
 "metadata": {
  "kernelspec": {
   "display_name": "Python 3",
   "language": "python",
   "name": "python3"
  },
  "language_info": {
   "codemirror_mode": {
    "name": "ipython",
    "version": 3
   },
   "file_extension": ".py",
   "mimetype": "text/x-python",
   "name": "python",
   "nbconvert_exporter": "python",
   "pygments_lexer": "ipython3",
   "version": "3.12.3"
  }
 },
 "nbformat": 4,
 "nbformat_minor": 2
}
